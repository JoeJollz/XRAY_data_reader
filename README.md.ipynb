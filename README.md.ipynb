{
 "cells": [
  {
   "cell_type": "markdown",
   "id": "052ac876",
   "metadata": {},
   "source": [
    "# Reading .xrdml (.xml) files on python"
   ]
  },
  {
   "cell_type": "markdown",
   "id": "39231b30",
   "metadata": {},
   "source": [
    "This repo is simply a .py file which has been made to read the XRD intensity counts for their 2 theta range. Extracting the relevant data from a slightly messy .xml file. \n",
    "\n",
    "Change the code as needed.\n",
    "\n",
    "Particularly useful for reading the .xrdml files from the PANalytical X'PERT PRO XRD."
   ]
  },
  {
   "cell_type": "code",
   "execution_count": null,
   "id": "11d69a3c",
   "metadata": {},
   "outputs": [],
   "source": []
  }
 ],
 "metadata": {
  "kernelspec": {
   "display_name": "Python 3 (ipykernel)",
   "language": "python",
   "name": "python3"
  },
  "language_info": {
   "codemirror_mode": {
    "name": "ipython",
    "version": 3
   },
   "file_extension": ".py",
   "mimetype": "text/x-python",
   "name": "python",
   "nbconvert_exporter": "python",
   "pygments_lexer": "ipython3",
   "version": "3.11.3"
  }
 },
 "nbformat": 4,
 "nbformat_minor": 5
}
